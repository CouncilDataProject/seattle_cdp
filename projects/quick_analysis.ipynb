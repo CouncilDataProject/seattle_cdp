{
 "cells": [
  {
   "cell_type": "code",
   "execution_count": 1,
   "metadata": {
    "collapsed": true
   },
   "outputs": [],
   "source": [
    "def load_db(db_path='db.json'):\n",
    "    import json\n",
    "\n",
    "    with open('db.json', 'r') as in_file:\n",
    "        db = json.load(in_file)\n",
    "        \n",
    "    return db"
   ]
  },
  {
   "cell_type": "code",
   "execution_count": 2,
   "metadata": {
    "collapsed": true
   },
   "outputs": [],
   "source": [
    "def gen_tfidf_dict(db=None, db_path=None):\n",
    "    import math\n",
    "\n",
    "    if db is None:\n",
    "        db = load_db(db_path=db_path)\n",
    "    \n",
    "    tfidf = dict()\n",
    "\n",
    "    for event, transcripts in db['transcript_versioning'].items():\n",
    "        words = transcripts[-1]['full_text'].lower().split(' ')\n",
    "        for word in words:\n",
    "            if word not in tfidf:\n",
    "                tfidf[word] = dict()\n",
    "                tfidf[word][event] = dict()\n",
    "                tfidf[word][event]['count'] = 1\n",
    "\n",
    "            else:\n",
    "                if event not in tfidf[word]:\n",
    "                    tfidf[word][event] = dict()\n",
    "                    tfidf[word][event]['count'] = 1\n",
    "                else:\n",
    "                    tfidf[word][event]['count'] += 1\n",
    "\n",
    "            tfidf[word][event]['tf'] = tfidf[word][event]['count'] / len(words)\n",
    "            \n",
    "    total_events = len(db['events'].keys())\n",
    "    for word, events in tfidf.items():\n",
    "        events_containing_word = len(events.keys())\n",
    "        for event, scores in events.items():\n",
    "            idf = math.log(total_events / (1 + events_containing_word))\n",
    "            tfidf[word][event]['idf'] = idf\n",
    "            tfidf[word][event]['tfidf'] = scores['tf'] * idf\n",
    "            \n",
    "    return tfidf"
   ]
  },
  {
   "cell_type": "code",
   "execution_count": null,
   "metadata": {
    "collapsed": true
   },
   "outputs": [],
   "source": [
    "# for word, events in tfidf.items():\n",
    "#     for event, scores in events.items():\n",
    "#         print('word:', word, '\\nevent:', event, '\\nn_docs:', len(events.keys()), '\\nscores:', scores)\n",
    "#         break\n",
    "#     break"
   ]
  },
  {
   "cell_type": "code",
   "execution_count": 3,
   "metadata": {
    "collapsed": true
   },
   "outputs": [],
   "source": [
    "def get_high_value_topics(topics=5, tfidf=None, db=None, db_path=None):\n",
    "    if tfidf is None:\n",
    "        if db is None:\n",
    "            db = load_db(db_path=db_path)\n",
    "            \n",
    "        tfidf = gen_tfidf_dict(db=db)\n",
    "        \n",
    "    high_values = dict()\n",
    "\n",
    "    for word, events in tfidf.items():\n",
    "        for event, scores in events.items():\n",
    "            try:\n",
    "                if scores['tfidf'] > min([s['score'] for s in high_values[event]]):\n",
    "                    new_high = {'word': word, 'score': scores['tfidf']}\n",
    "                    high_values[event].append(new_high)\n",
    "                    high_values[event] = sorted(high_values[event], key=lambda i: i['score'], reverse=True)\n",
    "                    high_values[event] = high_values[event][:topics]\n",
    "            except KeyError:\n",
    "                high_values[event] = [{'word': word, 'score': scores['tfidf']}]\n",
    "                \n",
    "    return high_values"
   ]
  },
  {
   "cell_type": "code",
   "execution_count": 4,
   "metadata": {
    "collapsed": true
   },
   "outputs": [],
   "source": [
    "def print_progress(count, start_time, total):\n",
    "    import time\n",
    "    import sys\n",
    "\n",
    "    bar_len = 60\n",
    "    filled_len = int(round(bar_len * count / float(total)))\n",
    "\n",
    "    percents = round(100.0 * count / float(total), 1)\n",
    "    bar = '=' * filled_len + '-' * (bar_len - filled_len)\n",
    "\n",
    "    duration = time.time() - start_time\n",
    "    completion = '~ 0:0:0 remaining'\n",
    "    if count > 0:\n",
    "        avg_time = duration / count\n",
    "        avg_time = (avg_time * (total - count))\n",
    "        m, s = divmod(avg_time, 60)\n",
    "        h, m = divmod(m, 60)\n",
    "        completion = ('~ %d:%02d:%02d remaining' % (h, m, s))\n",
    "\n",
    "    sys.stdout.write('[%s] %s%s (%s%s%s) %s\\r' %\n",
    "                     (bar, percents, '%', count, '/', total, completion))\n",
    "    sys.stdout.flush()"
   ]
  },
  {
   "cell_type": "code",
   "execution_count": 26,
   "metadata": {
    "collapsed": true
   },
   "outputs": [],
   "source": [
    "def gen_eot_datas(events=1, store_dir='events_over_time/', topics=5, tfidf=None, db=None, db_path=None):\n",
    "    import json\n",
    "    import time\n",
    "    import os\n",
    "    \n",
    "    if db is None:\n",
    "        db = load_db(db_path=db_path)\n",
    "            \n",
    "    if tfidf is None:\n",
    "        tfidf = gen_tfidf_dict(db=db)\n",
    "        \n",
    "    if store_dir[-1] != '/':\n",
    "        store_dir += '/'\n",
    "        \n",
    "    if not os.path.exists(store_dir):\n",
    "        os.makedirs(store_dir)\n",
    "    \n",
    "    count = 0\n",
    "    start = time.time()\n",
    "    if events is None or events == 'all':\n",
    "        total = len(db['transcript_versioning'].keys())\n",
    "    else:\n",
    "        total = events\n",
    "        \n",
    "    high_values = get_high_value_topics(topics=topics, tfidf=tfidf)\n",
    "    \n",
    "    for event, transcripts in db['transcript_versioning'].items():\n",
    "        print_progress(count, start, total)\n",
    "\n",
    "        words = transcripts[-1]['full_text'].lower().split(' ')\n",
    "        window_size = int(float(len(words)) * 0.075)\n",
    "        event_over_time = list()\n",
    "        for i, word in enumerate(words):\n",
    "            step = dict()\n",
    "            for hv in high_values[event]:\n",
    "                if i < window_size:\n",
    "                    begin_window = 0\n",
    "                else:\n",
    "                    begin_window = i - int(window_size / 2)\n",
    "                \n",
    "                if len(words) - i < window_size:\n",
    "                    end_window = len(words)\n",
    "                else:\n",
    "                    end_window = i + int(window_size / 2)\n",
    "                    \n",
    "                window = words[begin_window:end_window]\n",
    "                step[hv['word']] = float(window.count(hv['word'])) / window_size\n",
    "                        \n",
    "            event_over_time.append(step)\n",
    "\n",
    "        store_path = store_dir + event + '.json'\n",
    "            \n",
    "        with open(store_path, 'w') as out_file:\n",
    "            json.dump(event_over_time, out_file)\n",
    "\n",
    "        count += 1\n",
    "        \n",
    "        if events is not None:\n",
    "            if count >= events:\n",
    "                break\n",
    "\n",
    "    print_progress(count, start, total)"
   ]
  },
  {
   "cell_type": "code",
   "execution_count": 61,
   "metadata": {
    "collapsed": true
   },
   "outputs": [],
   "source": [
    "def gen_eot_datas_from_phrase(search='bicycle infrastructure', events=1, store_dir='events_over_time/', topics=5, tfidf=None, db=None, db_path=None):\n",
    "    import json\n",
    "    import time\n",
    "    import os\n",
    "    \n",
    "    if db is None:\n",
    "        db = load_db(db_path=db_path)\n",
    "            \n",
    "    if tfidf is None:\n",
    "        tfidf = gen_tfidf_dict(db=db)\n",
    "        \n",
    "    if store_dir[-1] != '/':\n",
    "        store_dir += '/'\n",
    "        \n",
    "    if not os.path.exists(store_dir):\n",
    "        os.makedirs(store_dir)\n",
    "        \n",
    "    if events is None or events == 'all':\n",
    "        events = len(db['transcript_versioning'].keys())\n",
    "    \n",
    "    count = 0\n",
    "    start = time.time()\n",
    "    total = events\n",
    "    \n",
    "    search_words = search.split(' ')\n",
    "#     search_words.append(search)\n",
    "            \n",
    "    for event, transcripts in db['transcript_versioning'].items():\n",
    "        print_progress(count, start, total)\n",
    "\n",
    "        words = transcripts[-1]['full_text'].lower().split(' ')\n",
    "        window_size = int(float(len(words)) * 0.075)\n",
    "        event_over_time = list()\n",
    "        for i, word in enumerate(words):\n",
    "            step = dict()\n",
    "            for s_word in search_words:\n",
    "                if i < window_size:\n",
    "                    begin_window = 0\n",
    "                else:\n",
    "                    begin_window = i - int(window_size / 2)\n",
    "                \n",
    "                if len(words) - i < window_size:\n",
    "                    end_window = len(words)\n",
    "                else:\n",
    "                    end_window = i + int(window_size / 2)\n",
    "                    \n",
    "                window = words[begin_window:end_window]\n",
    "                if ' ' in s_word:\n",
    "                    counts = [window.count(split) for split in s_word.split(' ')]\n",
    "                    print(counts)\n",
    "                    step[s_word] = sum([window.count(split) for split in s_word.split(' ')])\n",
    "                    print(step[s_word])\n",
    "                step[s_word] = float(window.count(s_word)) / window_size\n",
    "                        \n",
    "            event_over_time.append(step)\n",
    "\n",
    "        store_path = store_dir + event + '.json'\n",
    "            \n",
    "        with open(store_path, 'w') as out_file:\n",
    "            json.dump(event_over_time, out_file)\n",
    "\n",
    "        count += 1\n",
    "        \n",
    "        if events is not None:\n",
    "            if count >= events:\n",
    "                break\n",
    "\n",
    "    print_progress(count, start, total)"
   ]
  },
  {
   "cell_type": "code",
   "execution_count": 6,
   "metadata": {
    "collapsed": true
   },
   "outputs": [],
   "source": [
    "def load_eot_data(datapath):\n",
    "    import json\n",
    "\n",
    "    with open(datapath, 'r', encoding='utf8', errors='ignore') as in_file:\n",
    "        eot = json.load(in_file)\n",
    "    \n",
    "    return eot"
   ]
  },
  {
   "cell_type": "code",
   "execution_count": 7,
   "metadata": {
    "collapsed": true
   },
   "outputs": [],
   "source": [
    "def prep_eot_data(eot):\n",
    "    last = eot[-1]\n",
    "    ending_values = sorted(last, key=lambda i: last[i], reverse=True)\n",
    "    \n",
    "    y_vals = dict()\n",
    "\n",
    "    for word in ending_values:\n",
    "        y_vals[word] = list()\n",
    "        for step in eot:\n",
    "            y_vals[word].append(step[word])\n",
    "    \n",
    "    return y_vals"
   ]
  },
  {
   "cell_type": "code",
   "execution_count": 25,
   "metadata": {
    "collapsed": true
   },
   "outputs": [],
   "source": [
    "def plot_eot(datapath, fig_size=(20,10), save=False, show=True):\n",
    "    import matplotlib.pyplot as plt\n",
    "    import numpy as np\n",
    "    import os\n",
    "    if show:\n",
    "        %matplotlib inline\n",
    "    \n",
    "    fig, axes = plt.subplots(1, 1, figsize=fig_size)\n",
    "\n",
    "    legend_list = list()\n",
    "\n",
    "    eot = load_eot_data(datapath=datapath)\n",
    "    x_vals = np.arange(len(eot))\n",
    "    y_vals = prep_eot_data(eot)\n",
    "    for word, vals in y_vals.items():\n",
    "        axes.plot(x_vals, vals)\n",
    "        legend_list.append(word)\n",
    "\n",
    "    plt.legend(legend_list, loc='upper left', frameon=False)\n",
    "    plt.xticks([])\n",
    "    plt.yticks([])\n",
    "    if show:\n",
    "        plt.show()\n",
    "\n",
    "    if save:\n",
    "        save_path = datapath.split('/')\n",
    "        event = save_path[-1]\n",
    "        event = event.split('.json')\n",
    "        event = event[0]\n",
    "        save_path = '/'.join(save_path[:-1]) + '/' + event + '.png'\n",
    "        fig.savefig(save_path)"
   ]
  },
  {
   "cell_type": "code",
   "execution_count": 51,
   "metadata": {},
   "outputs": [
    {
     "name": "stdout",
     "output_type": "stream",
     "text": [
      "[============================================================] 100.0% (5/5) ~ 0:00:00 remaining\r"
     ]
    }
   ],
   "source": [
    "gen_eot_datas(events=5)"
   ]
  },
  {
   "cell_type": "code",
   "execution_count": 62,
   "metadata": {},
   "outputs": [
    {
     "name": "stdout",
     "output_type": "stream",
     "text": [
      "[============================================================] 100.0% (5/5) ~ 0:00:00 remaining\r"
     ]
    }
   ],
   "source": [
    "gen_eot_datas_from_phrase(search='oakview key sodo arena', events=5)"
   ]
  },
  {
   "cell_type": "code",
   "execution_count": 63,
   "metadata": {},
   "outputs": [
    {
     "data": {
      "image/png": "[encoded data removed]",
      "text/plain": [
       "<matplotlib.figure.Figure at 0x11274b898>"
      ]
     },
     "metadata": {},
     "output_type": "display_data"
    }
   ],
   "source": [
    "plot_eot('events_over_time/arenas_091817.json')"
   ]
  },
  {
   "cell_type": "code",
   "execution_count": null,
   "metadata": {
    "collapsed": true
   },
   "outputs": [],
   "source": [
    "def gen_eot_images(images=None, diff=False, store_dir='events_over_time/'):\n",
    "    import time\n",
    "    import os\n",
    "    \n",
    "    if store_dir[-1] != '/':\n",
    "        store_dir += '/'\n",
    "    \n",
    "    all_files = os.listdir(store_dir)\n",
    "    \n",
    "    count = 0\n",
    "    start = time.time()\n",
    "    if images is None:\n",
    "        total = len(all_files)\n",
    "    else:\n",
    "        total = images\n",
    "        \n",
    "    for filepath in all_files:\n",
    "        print_progress(count, start, total)\n",
    "        \n",
    "        datapath = store_dir + filepath\n",
    "        try:\n",
    "            plot_eot(datapath=datapath, diff=diff, save=True, show=False)\n",
    "        except:\n",
    "            pass\n",
    "        \n",
    "        count += 1\n",
    "        \n",
    "        if images is not None:\n",
    "            if count >= images:\n",
    "                break\n",
    "                \n",
    "    print_progress(count, start, total)"
   ]
  },
  {
   "cell_type": "code",
   "execution_count": null,
   "metadata": {
    "collapsed": true
   },
   "outputs": [],
   "source": [
    "gen_eot_datas()\n",
    "gen_eot_images(diff=True)"
   ]
  }
 ],
 "metadata": {
  "kernelspec": {
   "display_name": "Python 3",
   "language": "python",
   "name": "python3"
  },
  "language_info": {
   "codemirror_mode": {
    "name": "ipython",
    "version": 3
   },
   "file_extension": ".py",
   "mimetype": "text/x-python",
   "name": "python",
   "nbconvert_exporter": "python",
   "pygments_lexer": "ipython3",
   "version": "3.6.3"
  }
 },
 "nbformat": 4,
 "nbformat_minor": 2
}
