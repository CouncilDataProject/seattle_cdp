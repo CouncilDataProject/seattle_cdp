{
 "cells": [
  {
   "cell_type": "code",
   "execution_count": 1,
   "metadata": {
    "collapsed": true
   },
   "outputs": [],
   "source": [
    "def load_db(db_path='db.json'):\n",
    "    import json\n",
    "\n",
    "    with open('db.json', 'r') as in_file:\n",
    "        db = json.load(in_file)\n",
    "        \n",
    "    return db"
   ]
  },
  {
   "cell_type": "code",
   "execution_count": 2,
   "metadata": {
    "collapsed": true
   },
   "outputs": [],
   "source": [
    "def gen_tfidf_dict(db=None, db_path=None):\n",
    "    import math\n",
    "\n",
    "    if db is None:\n",
    "        db = load_db(db_path=db_path)\n",
    "    \n",
    "    tfidf = dict()\n",
    "\n",
    "    for event, transcripts in db['transcript_versioning'].items():\n",
    "        words = transcripts[-1]['full_text'].lower().split(' ')\n",
    "        for word in words:\n",
    "            if word not in tfidf:\n",
    "                tfidf[word] = dict()\n",
    "                tfidf[word][event] = dict()\n",
    "                tfidf[word][event]['count'] = 1\n",
    "\n",
    "            else:\n",
    "                if event not in tfidf[word]:\n",
    "                    tfidf[word][event] = dict()\n",
    "                    tfidf[word][event]['count'] = 1\n",
    "                else:\n",
    "                    tfidf[word][event]['count'] += 1\n",
    "\n",
    "            tfidf[word][event]['tf'] = tfidf[word][event]['count'] / len(words)\n",
    "            \n",
    "    total_events = len(db['events'].keys())\n",
    "    for word, events in tfidf.items():\n",
    "        events_containing_word = len(events.keys())\n",
    "        for event, scores in events.items():\n",
    "            idf = math.log(total_events / (1 + events_containing_word))\n",
    "            tfidf[word][event]['idf'] = idf\n",
    "            tfidf[word][event]['tfidf'] = scores['tf'] * idf\n",
    "            \n",
    "    return tfidf"
   ]
  },
  {
   "cell_type": "code",
   "execution_count": 3,
   "metadata": {
    "collapsed": true
   },
   "outputs": [],
   "source": [
    "# for word, events in tfidf.items():\n",
    "#     for event, scores in events.items():\n",
    "#         print('word:', word, '\\nevent:', event, '\\nn_docs:', len(events.keys()), '\\nscores:', scores)\n",
    "#         break\n",
    "#     break"
   ]
  },
  {
   "cell_type": "code",
   "execution_count": 4,
   "metadata": {
    "collapsed": true
   },
   "outputs": [],
   "source": [
    "def get_high_value_topics(topics=5, tfidf=None, db=None, db_path=None):\n",
    "    if tfidf is None:\n",
    "        if db is None:\n",
    "            db = load_db(db_path=db_path)\n",
    "            \n",
    "        tfidf = gen_tfidf_dict(db=db)\n",
    "        \n",
    "    high_values = dict()\n",
    "\n",
    "    for word, events in tfidf.items():\n",
    "        for event, scores in events.items():\n",
    "            try:\n",
    "                if scores['tfidf'] > min([s['score'] for s in high_values[event]]):\n",
    "                    new_high = {'word': word, 'score': scores['tfidf']}\n",
    "                    high_values[event].append(new_high)\n",
    "                    high_values[event] = sorted(high_values[event], key=lambda i: i['score'], reverse=True)\n",
    "                    high_values[event] = high_values[event][:topics]\n",
    "            except KeyError:\n",
    "                high_values[event] = [{'word': word, 'score': scores['tfidf']}]\n",
    "                \n",
    "    return high_values"
   ]
  },
  {
   "cell_type": "code",
   "execution_count": 5,
   "metadata": {
    "collapsed": true
   },
   "outputs": [],
   "source": [
    "def print_progress(count, start_time, total):\n",
    "    import time\n",
    "    import sys\n",
    "\n",
    "    bar_len = 60\n",
    "    filled_len = int(round(bar_len * count / float(total)))\n",
    "\n",
    "    percents = round(100.0 * count / float(total), 1)\n",
    "    bar = '=' * filled_len + '-' * (bar_len - filled_len)\n",
    "\n",
    "    duration = time.time() - start_time\n",
    "    completion = '~ 0:0:0 remaining'\n",
    "    if count > 0:\n",
    "        avg_time = duration / count\n",
    "        avg_time = (avg_time * (total - count))\n",
    "        m, s = divmod(avg_time, 60)\n",
    "        h, m = divmod(m, 60)\n",
    "        completion = ('~ %d:%02d:%02d remaining' % (h, m, s))\n",
    "\n",
    "    sys.stdout.write('[%s] %s%s (%s%s%s) %s\\r' %\n",
    "                     (bar, percents, '%', count, '/', total, completion))\n",
    "    sys.stdout.flush()"
   ]
  },
  {
   "cell_type": "code",
   "execution_count": 6,
   "metadata": {
    "collapsed": true
   },
   "outputs": [],
   "source": [
    "def gen_eot_datas(events=None, decay=False, store_dir='events_over_time/', topics=5, tfidf=None, db=None, db_path=None):\n",
    "    import json\n",
    "    import time\n",
    "    import os\n",
    "    \n",
    "    if db is None:\n",
    "        db = load_db(db_path=db_path)\n",
    "            \n",
    "    if tfidf is None:\n",
    "        tfidf = gen_tfidf_dict(db=db)\n",
    "        \n",
    "    if store_dir[-1] != '/':\n",
    "        store_dir += '/'\n",
    "        \n",
    "    if not os.path.exists(store_dir):\n",
    "        os.makedirs(store_dir)\n",
    "    \n",
    "    count = 0\n",
    "    start = time.time()\n",
    "    if events is None:\n",
    "        total = len(db['transcript_versioning'].keys())\n",
    "    else:\n",
    "        total = events\n",
    "        \n",
    "    high_values = get_high_value_topics(topics=topics, tfidf=tfidf)\n",
    "    \n",
    "    for event, transcripts in db['transcript_versioning'].items():\n",
    "        print_progress(count, start, total)\n",
    "\n",
    "        words = transcripts[-1]['full_text'].lower().split(' ')\n",
    "        event_over_time = list()\n",
    "        for i, word in enumerate(words):\n",
    "            step = dict()\n",
    "            for score in high_values[event]:\n",
    "                if score['word'] == word:\n",
    "                    if i == 0:\n",
    "                        step[word] = 1.0\n",
    "                    else:\n",
    "                        step[word] = event_over_time[i-1][word] + 1.0\n",
    "                        \n",
    "                else:\n",
    "                    decay_step = tfidf[word][event]['tfidf'] / len(words)\n",
    "                    \n",
    "                    if i == 0:\n",
    "                        if decay:\n",
    "                            step[score['word']] = 0.0 - decay_step\n",
    "                        else:\n",
    "                            step[score['word']] = 0.0\n",
    "                    else:\n",
    "                        if decay:\n",
    "                            step[score['word']] = event_over_time[i-1][score['word']] - decay_step\n",
    "                        else:\n",
    "                            step[score['word']] = event_over_time[i-1][score['word']]\n",
    "                        \n",
    "            event_over_time.append(step)\n",
    "\n",
    "        store_path = store_dir\n",
    "        if decay:\n",
    "            store_path += 'decay_'\n",
    "        store_path += event + '.json'\n",
    "            \n",
    "        with open(store_path, 'w') as out_file:\n",
    "            json.dump(event_over_time, out_file)\n",
    "\n",
    "        count += 1\n",
    "        \n",
    "        if events is not None:\n",
    "            if count >= events:\n",
    "                break\n",
    "\n",
    "    print_progress(count, start, total)"
   ]
  },
  {
   "cell_type": "code",
   "execution_count": 7,
   "metadata": {
    "collapsed": true
   },
   "outputs": [],
   "source": [
    "def load_eot_data(datapath):\n",
    "    import json\n",
    "\n",
    "    with open(datapath, 'r', encoding='utf8', errors='ignore') as in_file:\n",
    "        eot = json.load(in_file)\n",
    "    \n",
    "    return eot"
   ]
  },
  {
   "cell_type": "code",
   "execution_count": 8,
   "metadata": {
    "collapsed": true
   },
   "outputs": [],
   "source": [
    "def prep_eot_data(eot):\n",
    "    last = eot[-1]\n",
    "    ending_values = sorted(last, key=lambda i: last[i], reverse=True)\n",
    "    \n",
    "    y_vals = dict()\n",
    "\n",
    "    for word in ending_values:\n",
    "        y_vals[word] = list()\n",
    "        for step in eot:\n",
    "            y_vals[word].append(step[word])\n",
    "    \n",
    "    return y_vals"
   ]
  },
  {
   "cell_type": "code",
   "execution_count": 9,
   "metadata": {
    "collapsed": true
   },
   "outputs": [],
   "source": [
    "def plot_eot(datapath, diff=False, fig_size=(20,10), save=False, show=True):\n",
    "    import matplotlib.pyplot as plt\n",
    "    import numpy as np\n",
    "    import os\n",
    "    if show:\n",
    "        %matplotlib inline\n",
    "    \n",
    "    fig, axes = plt.subplots(1, 1, figsize=fig_size)\n",
    "\n",
    "    legend_list = list()\n",
    "\n",
    "    eot = load_eot_data(datapath=datapath)\n",
    "    x_vals = np.arange(len(eot))\n",
    "    y_vals = prep_eot_data(eot)\n",
    "    for word, vals in y_vals.items():\n",
    "        if diff:\n",
    "            y = np.diff(vals)\n",
    "            x = np.arange(len(y))\n",
    "            z = np.polyfit(x, y, 3)\n",
    "            f = np.poly1d(z)\n",
    "            \n",
    "            plot_x = np.linspace(x[0], x[-1], 300)\n",
    "            plot_y = f(plot_x)\n",
    "        else:\n",
    "            plot_y = vals\n",
    "            plot_x = x_vals\n",
    "        \n",
    "        axes.plot(plot_x, plot_y)\n",
    "        legend_list.append(word)\n",
    "\n",
    "    plt.legend(legend_list, loc='upper left', frameon=False)\n",
    "    plt.xticks([])\n",
    "    plt.yticks([])\n",
    "    if show:\n",
    "        plt.show()\n",
    "\n",
    "    if save:\n",
    "        save_path = datapath.split('/')\n",
    "        event = save_path[-1]\n",
    "        event = event.split('.json')\n",
    "        event = event[0]\n",
    "        save_path = '/'.join(save_path[:-1]) + '/'\n",
    "        if diff:\n",
    "            save_path += 'diff_'\n",
    "        save_path += event + '.png'\n",
    "        fig.savefig(save_path)"
   ]
  },
  {
   "cell_type": "code",
   "execution_count": 10,
   "metadata": {},
   "outputs": [
    {
     "name": "stdout",
     "output_type": "stream",
     "text": [
      "[============================================================] 100.0% (5/5) ~ 0:00:00 remaining\r"
     ]
    }
   ],
   "source": [
    "gen_eot_datas(events=5)"
   ]
  },
  {
   "cell_type": "code",
   "execution_count": 11,
   "metadata": {},
   "outputs": [
    {
     "data": {
      "image/png": "[encoded data removed]",
      "text/plain": [
       "<matplotlib.figure.Figure at 0x10f3f47b8>"
      ]
     },
     "metadata": {},
     "output_type": "display_data"
    }
   ],
   "source": [
    "plot_eot('events_over_time/arenas_091817.json', save=True, diff=True)"
   ]
  },
  {
   "cell_type": "code",
   "execution_count": 12,
   "metadata": {
    "collapsed": true
   },
   "outputs": [],
   "source": [
    "def gen_eot_images(images=None, diff=False, store_dir='events_over_time/'):\n",
    "    import time\n",
    "    import os\n",
    "    \n",
    "    if store_dir[-1] != '/':\n",
    "        store_dir += '/'\n",
    "    \n",
    "    all_files = os.listdir(store_dir)\n",
    "    \n",
    "    count = 0\n",
    "    start = time.time()\n",
    "    if images is None:\n",
    "        total = len(all_files)\n",
    "    else:\n",
    "        total = images\n",
    "        \n",
    "    for filepath in all_files:\n",
    "        print_progress(count, start, total)\n",
    "        \n",
    "        datapath = store_dir + filepath\n",
    "        try:\n",
    "            plot_eot(datapath=datapath, diff=diff, save=True, show=False)\n",
    "        except:\n",
    "            pass\n",
    "        \n",
    "        count += 1\n",
    "        \n",
    "        if images is not None:\n",
    "            if count >= images:\n",
    "                break\n",
    "                \n",
    "    print_progress(count, start, total)"
   ]
  },
  {
   "cell_type": "code",
   "execution_count": null,
   "metadata": {},
   "outputs": [],
   "source": [
    "gen_eot_datas()\n",
    "gen_eot_images(diff=True)"
   ]
  }
 ],
 "metadata": {
  "kernelspec": {
   "display_name": "Python 3",
   "language": "python",
   "name": "python3"
  },
  "language_info": {
   "codemirror_mode": {
    "name": "ipython",
    "version": 3
   },
   "file_extension": ".py",
   "mimetype": "text/x-python",
   "name": "python",
   "nbconvert_exporter": "python",
   "pygments_lexer": "ipython3",
   "version": "3.6.3"
  }
 },
 "nbformat": 4,
 "nbformat_minor": 2
}
